{
 "metadata": {
  "name": "Smiley"
 },
 "nbformat": 3,
 "nbformat_minor": 0,
 "worksheets": [
  {
   "cells": [
    {
     "cell_type": "code",
     "collapsed": false,
     "input": "def gray(block):\n    block.red = 220\n    block.green = 220\n    block.blue = 220",
     "language": "python",
     "metadata": {},
     "outputs": [],
     "prompt_number": 14
    },
    {
     "cell_type": "code",
     "collapsed": false,
     "input": "def orange(block):\n    block.red = 200\n    block.green = 100\n    block.blue = 0",
     "language": "python",
     "metadata": {},
     "outputs": [],
     "prompt_number": 15
    },
    {
     "cell_type": "code",
     "collapsed": false,
     "input": "def pink(block):\n    block.red = 240\n    block.green = 0\n    block.blue = 230",
     "language": "python",
     "metadata": {},
     "outputs": [],
     "prompt_number": 16
    },
    {
     "cell_type": "code",
     "collapsed": false,
     "input": "from ipythonblocks import BlockGrid\ngrid = BlockGrid(5,5)\n\nfor block in grid.animate:\n  s = (block.row, block.col) # the current square\n  gray(block)\n  if s == (1, 1) or s == (1,3) \\\n    or s == (3,0) or s == (4,1) or s == (4,2) or s == (4,3) or s == (3,4): # smile\n    orange(block)\n    \n  # Add a pink nose!\n  # if s == (2,2):\n  #   pink(block)",
     "language": "python",
     "metadata": {},
     "outputs": [
      {
       "html": "<style type=\"text/css\">table.blockgrid {border: none;} .blockgrid tr {border: none;} .blockgrid td {padding: 0px;} #blockscc81114d-a2db-4307-a114-4d60685bc7c6 td {border: 1px solid white;}</style><table id=\"blockscc81114d-a2db-4307-a114-4d60685bc7c6\" class=\"blockgrid\"><tbody><tr><td title=\"Index: [0, 0]&#10;Color: (220, 220, 220)\" style=\"width: 20px; height: 20px;background-color: rgb(220, 220, 220);\"></td><td title=\"Index: [0, 1]&#10;Color: (220, 220, 220)\" style=\"width: 20px; height: 20px;background-color: rgb(220, 220, 220);\"></td><td title=\"Index: [0, 2]&#10;Color: (220, 220, 220)\" style=\"width: 20px; height: 20px;background-color: rgb(220, 220, 220);\"></td><td title=\"Index: [0, 3]&#10;Color: (220, 220, 220)\" style=\"width: 20px; height: 20px;background-color: rgb(220, 220, 220);\"></td><td title=\"Index: [0, 4]&#10;Color: (220, 220, 220)\" style=\"width: 20px; height: 20px;background-color: rgb(220, 220, 220);\"></td></tr><tr><td title=\"Index: [1, 0]&#10;Color: (220, 220, 220)\" style=\"width: 20px; height: 20px;background-color: rgb(220, 220, 220);\"></td><td title=\"Index: [1, 1]&#10;Color: (200, 100, 0)\" style=\"width: 20px; height: 20px;background-color: rgb(200, 100, 0);\"></td><td title=\"Index: [1, 2]&#10;Color: (220, 220, 220)\" style=\"width: 20px; height: 20px;background-color: rgb(220, 220, 220);\"></td><td title=\"Index: [1, 3]&#10;Color: (200, 100, 0)\" style=\"width: 20px; height: 20px;background-color: rgb(200, 100, 0);\"></td><td title=\"Index: [1, 4]&#10;Color: (220, 220, 220)\" style=\"width: 20px; height: 20px;background-color: rgb(220, 220, 220);\"></td></tr><tr><td title=\"Index: [2, 0]&#10;Color: (220, 220, 220)\" style=\"width: 20px; height: 20px;background-color: rgb(220, 220, 220);\"></td><td title=\"Index: [2, 1]&#10;Color: (220, 220, 220)\" style=\"width: 20px; height: 20px;background-color: rgb(220, 220, 220);\"></td><td title=\"Index: [2, 2]&#10;Color: (240, 0, 230)\" style=\"width: 20px; height: 20px;background-color: rgb(240, 0, 230);\"></td><td title=\"Index: [2, 3]&#10;Color: (220, 220, 220)\" style=\"width: 20px; height: 20px;background-color: rgb(220, 220, 220);\"></td><td title=\"Index: [2, 4]&#10;Color: (220, 220, 220)\" style=\"width: 20px; height: 20px;background-color: rgb(220, 220, 220);\"></td></tr><tr><td title=\"Index: [3, 0]&#10;Color: (200, 100, 0)\" style=\"width: 20px; height: 20px;background-color: rgb(200, 100, 0);\"></td><td title=\"Index: [3, 1]&#10;Color: (220, 220, 220)\" style=\"width: 20px; height: 20px;background-color: rgb(220, 220, 220);\"></td><td title=\"Index: [3, 2]&#10;Color: (220, 220, 220)\" style=\"width: 20px; height: 20px;background-color: rgb(220, 220, 220);\"></td><td title=\"Index: [3, 3]&#10;Color: (220, 220, 220)\" style=\"width: 20px; height: 20px;background-color: rgb(220, 220, 220);\"></td><td title=\"Index: [3, 4]&#10;Color: (200, 100, 0)\" style=\"width: 20px; height: 20px;background-color: rgb(200, 100, 0);\"></td></tr><tr><td title=\"Index: [4, 0]&#10;Color: (220, 220, 220)\" style=\"width: 20px; height: 20px;background-color: rgb(220, 220, 220);\"></td><td title=\"Index: [4, 1]&#10;Color: (200, 100, 0)\" style=\"width: 20px; height: 20px;background-color: rgb(200, 100, 0);\"></td><td title=\"Index: [4, 2]&#10;Color: (200, 100, 0)\" style=\"width: 20px; height: 20px;background-color: rgb(200, 100, 0);\"></td><td title=\"Index: [4, 3]&#10;Color: (200, 100, 0)\" style=\"width: 20px; height: 20px;background-color: rgb(200, 100, 0);\"></td><td title=\"Index: [4, 4]&#10;Color: (220, 220, 220)\" style=\"width: 20px; height: 20px;background-color: rgb(220, 220, 220);\"></td></tr></tbody></table>",
       "output_type": "display_data",
       "text": "<IPython.core.display.HTML at 0x106409610>"
      }
     ],
     "prompt_number": 18
    },
    {
     "cell_type": "code",
     "collapsed": false,
     "input": "",
     "language": "python",
     "metadata": {},
     "outputs": []
    }
   ],
   "metadata": {}
  }
 ]
}