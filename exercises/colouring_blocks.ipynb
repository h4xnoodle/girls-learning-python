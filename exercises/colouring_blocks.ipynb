{
 "metadata": {
  "name": "Colouring Blocks"
 },
 "nbformat": 3,
 "nbformat_minor": 0,
 "worksheets": [
  {
   "cells": [
    {
     "cell_type": "code",
     "collapsed": false,
     "input": "# Change these numbers to change the size of the grid\nwidth = 3\nheight = 3",
     "language": "python",
     "metadata": {},
     "outputs": [],
     "prompt_number": 35
    },
    {
     "cell_type": "code",
     "collapsed": false,
     "input": "from ipythonblocks import BlockGrid\ngrid = BlockGrid(width,height)",
     "language": "python",
     "metadata": {},
     "outputs": [],
     "prompt_number": 36
    },
    {
     "cell_type": "code",
     "collapsed": false,
     "input": "def pink(block):\n    block.red = 255\n    block.green = 0\n    block.blue = 200",
     "language": "python",
     "metadata": {},
     "outputs": [],
     "prompt_number": 42
    },
    {
     "cell_type": "code",
     "collapsed": false,
     "input": "def orange(block):\n    block.red = 200\n    block.green = 100\n    block.blue = 0",
     "language": "python",
     "metadata": {},
     "outputs": [],
     "prompt_number": 43
    },
    {
     "cell_type": "code",
     "collapsed": false,
     "input": "def gray(block):\n    block.red = 220\n    block.green = 220\n    block.blue = 220",
     "language": "python",
     "metadata": {},
     "outputs": [],
     "prompt_number": 44
    },
    {
     "cell_type": "code",
     "collapsed": false,
     "input": "def green(block):\n    block.red = 10\n    block.blue = 20\n    block.green = 220",
     "language": "python",
     "metadata": {},
     "outputs": [],
     "prompt_number": 52
    },
    {
     "cell_type": "code",
     "collapsed": false,
     "input": "def blue(block):\n    block.red = 10\n    block.green = 20\n    block.blue = 250",
     "language": "python",
     "metadata": {},
     "outputs": [],
     "prompt_number": 69
    },
    {
     "cell_type": "code",
     "collapsed": false,
     "input": "def yellow(block):\n    block.red = 255\n    block.green = 255\n    block.blue = 0",
     "language": "python",
     "metadata": {},
     "outputs": [],
     "prompt_number": 70
    },
    {
     "cell_type": "code",
     "collapsed": false,
     "input": "# This 'for' loop allows you to change each block\n\n# Read it like this \"for each block, called 's', do the following: \n#   if the block is at the top left, change it to orange\n#   if the block is at the top right, change it to green\n\nfor block in grid.animate:\n  s = (block.row, block.col)\n  if s == (0, 0):\n    orange(block) # turn the block orange\n  if s == (0, 2):\n    green(block) # turn the block green",
     "language": "python",
     "metadata": {},
     "outputs": [
      {
       "html": "<style type=\"text/css\">table.blockgrid {border: none;} .blockgrid tr {border: none;} .blockgrid td {padding: 0px;} #blocksf3ba2f7e-5317-482e-bf5f-afabd3903a86 td {border: 1px solid white;}</style><table id=\"blocksf3ba2f7e-5317-482e-bf5f-afabd3903a86\" class=\"blockgrid\"><tbody><tr><td title=\"Index: [0, 0]&#10;Color: (10, 220, 20)\" style=\"width: 20px; height: 20px;background-color: rgb(10, 220, 20);\"></td><td title=\"Index: [0, 1]&#10;Color: (0, 0, 0)\" style=\"width: 20px; height: 20px;background-color: rgb(0, 0, 0);\"></td><td title=\"Index: [0, 2]&#10;Color: (255, 255, 0)\" style=\"width: 20px; height: 20px;background-color: rgb(255, 255, 0);\"></td></tr><tr><td title=\"Index: [1, 0]&#10;Color: (0, 0, 0)\" style=\"width: 20px; height: 20px;background-color: rgb(0, 0, 0);\"></td><td title=\"Index: [1, 1]&#10;Color: (0, 0, 0)\" style=\"width: 20px; height: 20px;background-color: rgb(0, 0, 0);\"></td><td title=\"Index: [1, 2]&#10;Color: (0, 0, 0)\" style=\"width: 20px; height: 20px;background-color: rgb(0, 0, 0);\"></td></tr><tr><td title=\"Index: [2, 0]&#10;Color: (0, 0, 0)\" style=\"width: 20px; height: 20px;background-color: rgb(0, 0, 0);\"></td><td title=\"Index: [2, 1]&#10;Color: (0, 0, 0)\" style=\"width: 20px; height: 20px;background-color: rgb(0, 0, 0);\"></td><td title=\"Index: [2, 2]&#10;Color: (0, 0, 0)\" style=\"width: 20px; height: 20px;background-color: rgb(0, 0, 0);\"></td></tr></tbody></table>",
       "output_type": "display_data",
       "text": "<IPython.core.display.HTML at 0x10ce8d5d0>"
      }
     ],
     "prompt_number": 71
    },
    {
     "cell_type": "code",
     "collapsed": false,
     "input": "",
     "language": "python",
     "metadata": {},
     "outputs": [],
     "prompt_number": 49
    },
    {
     "cell_type": "code",
     "collapsed": false,
     "input": "",
     "language": "python",
     "metadata": {},
     "outputs": []
    }
   ],
   "metadata": {}
  }
 ]
}